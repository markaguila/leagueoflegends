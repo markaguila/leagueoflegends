{
 "cells": [
  {
   "cell_type": "code",
   "execution_count": 4,
   "metadata": {},
   "outputs": [
    {
     "name": "stdout",
     "output_type": "stream",
     "text": [
      "Requirement already satisfied: xlrd in /opt/conda/lib/python3.8/site-packages (1.2.0)\n",
      "Note: you may need to restart the kernel to use updated packages.\n"
     ]
    }
   ],
   "source": [
    "pip install xlrd"
   ]
  },
  {
   "cell_type": "code",
   "execution_count": 5,
   "metadata": {},
   "outputs": [],
   "source": [
    "import pandas as pd\n",
    "from pandas import ExcelWriter\n",
    "from pandas import ExcelFile\n",
    "import seaborn as sns\n",
    "import matplotlib.pyplot as plt\n",
    "import numpy as np\n",
    "\n",
    "from sklearn.linear_model import LinearRegression\n",
    "from sklearn.linear_model import LogisticRegression\n",
    "from sklearn.tree import DecisionTreeClassifier"
   ]
  },
  {
   "cell_type": "code",
   "execution_count": 12,
   "metadata": {},
   "outputs": [
    {
     "name": "stdout",
     "output_type": "stream",
     "text": [
      "Done.\n"
     ]
    }
   ],
   "source": [
    "# An attempt to use individual player performance from past years\n",
    "# to predict NA LCS team standings in Spring 2020.\n",
    "\n",
    "#lcs16 = pd.read_excel('2016 complete match data OraclesElixir 2018-12-18.xlsx')\n",
    "#lcs17 = pd.read_excel('2017matchdataOraclesElixir.xlsx')\n",
    "#spring_18 = pd.read_excel('2018-spring-match-data-OraclesElixir-2018-05-20.xlsx')\n",
    "#summer_18 = pd.read_excel('2018 summer match data OraclesElixir 2018-09-27.xlsx')\n",
    "#worlds_18 = pd.read_excel('2018-worlds-match-data-OraclesElixir-2018-11-03.xlsx')\n",
    "\n",
    "spring_19 = pd.read_excel('2019-spring-match-data-OraclesElixir-2019-05-21.xlsx')\n",
    "summer_19 = pd.read_excel('2019-summer-match-data-OraclesElixir-2019-09-16.xlsx')\n",
    "#worlds_19 = pd.read_excel('League of Legends/2019-summer-match-data-OraclesElixir-2019-11-10.xlsx')\n",
    "print('Done.')"
   ]
  },
  {
   "cell_type": "code",
   "execution_count": 13,
   "metadata": {},
   "outputs": [],
   "source": [
    "lcs_19 = spring_19.append(summer_19)"
   ]
  },
  {
   "cell_type": "code",
   "execution_count": null,
   "metadata": {},
   "outputs": [],
   "source": []
  },
  {
   "cell_type": "code",
   "execution_count": 14,
   "metadata": {},
   "outputs": [],
   "source": [
    "model = LogisticRegression()"
   ]
  },
  {
   "cell_type": "code",
   "execution_count": 15,
   "metadata": {},
   "outputs": [],
   "source": [
    "nalcs = lcs_19[lcs_19['league'] == 'LCS']\n",
    "not_na = lcs_19[lcs_19['player'].isin(['Jiizuke', 'ry0ma', 'Kobbe', 'Broxah', 'sOAZ', 'IgNar'])]\n",
    "new_na = nalcs.append(not_na)"
   ]
  },
  {
   "cell_type": "code",
   "execution_count": 16,
   "metadata": {},
   "outputs": [],
   "source": [
    "tl = ['Doublelift', 'Impact', 'Jensen', 'CoreJJ', 'Broxah']\n",
    "thieves = ['Ssumday', 'Meteos', 'Cody Sun', 'Stunt', 'ry0ma']\n",
    "tsm = ['Broken Blade' , 'Dardoch', 'Kobbe', 'Bjergsen', 'Biofrost']\n",
    "imt = ['sOAZ', 'Xmithie', 'Altec', 'Hakuho']\n",
    "fq = ['V1per', 'Santorin', 'PowerOfEvil', 'WildTurtle', 'IgNar']\n",
    "gg = ['Hauntzer', 'Closer', 'Goldenglue', 'FBI', 'Keith']\n",
    "eg = ['Kumo', 'Svenskeren', 'Zeyzal', 'Bang', 'Jiizuke']\n",
    "clg = ['Ruin', 'Wiggily', 'Crown', 'Stixxay', 'Smoothie']\n",
    "c9 = ['Licorice', 'Blaber', 'Nisqy', 'Zven', 'Vulcan']\n",
    "dig = ['Huni', 'Grig', 'Froggen', 'Johnsun', 'aphromoo']\n",
    "\n",
    "na = [tl, thieves, tsm, imt, fq, gg, eg, clg, c9, dig]\n",
    "\n",
    "all_players = list(lcs_19['player'].unique())\n",
    "\n",
    "all = []\n",
    "for team in na:\n",
    "    played = []\n",
    "    for player in team:\n",
    "        if player in all_players:\n",
    "            played.append([True, player])\n",
    "        else:\n",
    "            played.append([False, player])\n",
    "    all.append(played)\n",
    "\n",
    "all_numerics = ['int16', 'int32', 'int64', 'float16', 'float32', 'float64']\n",
    "numeric = new_na.select_dtypes(include=all_numerics)\n",
    "y = new_na['result']\n",
    "x = numeric.drop(labels=['patchno', 'playerid', 'gamelength', 'fdtime', 'fttime', 'fbarontime', 'result', 'herald', 'heraldtime', 'fbaron'], axis=1)\n",
    "\n",
    "good = ['k', 'a', 'teamtowerkills', 'teambaronkills', 'gspd', 'teamkills', 'teamdragkills']\n",
    "bad = ['d', 'opptowerkills', 'oppbaronkills', 'teamdeaths', 'oppdragkills']\n",
    "\n",
    "new_na = new_na.fillna(0)"
   ]
  },
  {
   "cell_type": "code",
   "execution_count": 17,
   "metadata": {},
   "outputs": [],
   "source": [
    "# 1. use a logistic regression to see coefficients of good and bad features\n",
    "# 2. aggregate a player's features weighted with coeffiecients\n",
    "# 3. aggregate the features of all players on a team\n",
    "# 4. use aggregate team scores to rank teams\n",
    "# 5. consider teams missing player data\n",
    "# - IMT missing ADC and MID, high impact\n",
    "# - DIG missing ADC medium impact\n",
    "# - GG missing JG not sure"
   ]
  },
  {
   "cell_type": "code",
   "execution_count": null,
   "metadata": {},
   "outputs": [],
   "source": []
  },
  {
   "cell_type": "code",
   "execution_count": 18,
   "metadata": {},
   "outputs": [
    {
     "data": {
      "text/plain": [
       "[[[True, 'Doublelift'],\n",
       "  [True, 'Impact'],\n",
       "  [True, 'Jensen'],\n",
       "  [True, 'CoreJJ'],\n",
       "  [True, 'Broxah']],\n",
       " [[True, 'Ssumday'],\n",
       "  [True, 'Meteos'],\n",
       "  [True, 'Cody Sun'],\n",
       "  [True, 'Stunt'],\n",
       "  [True, 'ry0ma']],\n",
       " [[True, 'Broken Blade'],\n",
       "  [True, 'Dardoch'],\n",
       "  [True, 'Kobbe'],\n",
       "  [True, 'Bjergsen'],\n",
       "  [True, 'Biofrost']],\n",
       " [[True, 'sOAZ'], [True, 'Xmithie'], [False, 'Altec'], [True, 'Hakuho']],\n",
       " [[True, 'V1per'],\n",
       "  [True, 'Santorin'],\n",
       "  [True, 'PowerOfEvil'],\n",
       "  [True, 'WildTurtle'],\n",
       "  [True, 'IgNar']],\n",
       " [[True, 'Hauntzer'],\n",
       "  [False, 'Closer'],\n",
       "  [True, 'Goldenglue'],\n",
       "  [True, 'FBI'],\n",
       "  [True, 'Keith']],\n",
       " [[True, 'Kumo'],\n",
       "  [True, 'Svenskeren'],\n",
       "  [True, 'Zeyzal'],\n",
       "  [True, 'Bang'],\n",
       "  [True, 'Jiizuke']],\n",
       " [[True, 'Ruin'],\n",
       "  [True, 'Wiggily'],\n",
       "  [True, 'Crown'],\n",
       "  [True, 'Stixxay'],\n",
       "  [True, 'Smoothie']],\n",
       " [[True, 'Licorice'],\n",
       "  [True, 'Blaber'],\n",
       "  [True, 'Nisqy'],\n",
       "  [True, 'Zven'],\n",
       "  [True, 'Vulcan']],\n",
       " [[True, 'Huni'],\n",
       "  [True, 'Grig'],\n",
       "  [True, 'Froggen'],\n",
       "  [False, 'Johnsun'],\n",
       "  [True, 'aphromoo']]]"
      ]
     },
     "execution_count": 18,
     "metadata": {},
     "output_type": "execute_result"
    }
   ],
   "source": [
    "# Which players playing in Spring 2020 have played\n",
    "# on a professional team the previous year? Players\n",
    "# who are new in Spring 2020 will decrease accuracy\n",
    "# of predictions for their team.\n",
    "\n",
    "all = []\n",
    "for team in na:\n",
    "    played = []\n",
    "    for player in team:\n",
    "        if player in new_na['player'].unique():\n",
    "            played.append([True, player])\n",
    "        else:\n",
    "            played.append([False, player])\n",
    "    all.append(played)\n",
    "all"
   ]
  },
  {
   "cell_type": "code",
   "execution_count": 19,
   "metadata": {},
   "outputs": [],
   "source": [
    "kda_pred = ['TL', 'C9', 'TSM', 'EG', 'FQ', 'IMT', 'CLG', 'GG', '100T', 'DIG']\n",
    "good_bad = ['TL', 'C9', 'TSM', 'EG', 'CLG', 'IMT', 'DIG', 'FQ', 'GG', '100T']\n",
    "avg = ['TL', 'C9', 'TSM', 'EG', 'CLG', 'IMT', 'FQ', 'DIG', 'GG', '100T']"
   ]
  },
  {
   "cell_type": "code",
   "execution_count": 21,
   "metadata": {},
   "outputs": [
    {
     "data": {
      "text/html": [
       "<div>\n",
       "<style scoped>\n",
       "    .dataframe tbody tr th:only-of-type {\n",
       "        vertical-align: middle;\n",
       "    }\n",
       "\n",
       "    .dataframe tbody tr th {\n",
       "        vertical-align: top;\n",
       "    }\n",
       "\n",
       "    .dataframe thead th {\n",
       "        text-align: right;\n",
       "    }\n",
       "</style>\n",
       "<table border=\"1\" class=\"dataframe\">\n",
       "  <thead>\n",
       "    <tr style=\"text-align: right;\">\n",
       "      <th></th>\n",
       "      <th>0</th>\n",
       "      <th>1</th>\n",
       "    </tr>\n",
       "  </thead>\n",
       "  <tbody>\n",
       "    <tr>\n",
       "      <th>0</th>\n",
       "      <td>[Doublelift, Impact, Jensen, CoreJJ, Broxah]</td>\n",
       "      <td>0.706093</td>\n",
       "    </tr>\n",
       "    <tr>\n",
       "      <th>8</th>\n",
       "      <td>[Licorice, Blaber, Nisqy, Zven, Vulcan]</td>\n",
       "      <td>0.560538</td>\n",
       "    </tr>\n",
       "    <tr>\n",
       "      <th>2</th>\n",
       "      <td>[Broken Blade, Dardoch, Kobbe, Bjergsen, Biofr...</td>\n",
       "      <td>0.536170</td>\n",
       "    </tr>\n",
       "    <tr>\n",
       "      <th>6</th>\n",
       "      <td>[Kumo, Svenskeren, Zeyzal, Bang, Jiizuke]</td>\n",
       "      <td>0.533708</td>\n",
       "    </tr>\n",
       "    <tr>\n",
       "      <th>4</th>\n",
       "      <td>[V1per, Santorin, PowerOfEvil, WildTurtle, IgNar]</td>\n",
       "      <td>0.520000</td>\n",
       "    </tr>\n",
       "    <tr>\n",
       "      <th>3</th>\n",
       "      <td>[sOAZ, Xmithie, Altec, Hakuho]</td>\n",
       "      <td>0.516667</td>\n",
       "    </tr>\n",
       "    <tr>\n",
       "      <th>7</th>\n",
       "      <td>[Ruin, Wiggily, Crown, Stixxay, Smoothie]</td>\n",
       "      <td>0.482906</td>\n",
       "    </tr>\n",
       "    <tr>\n",
       "      <th>5</th>\n",
       "      <td>[Hauntzer, Closer, Goldenglue, FBI, Keith]</td>\n",
       "      <td>0.456140</td>\n",
       "    </tr>\n",
       "    <tr>\n",
       "      <th>1</th>\n",
       "      <td>[Ssumday, Meteos, Cody Sun, Stunt, ry0ma]</td>\n",
       "      <td>0.445455</td>\n",
       "    </tr>\n",
       "    <tr>\n",
       "      <th>9</th>\n",
       "      <td>[Huni, Grig, Froggen, Johnsun, aphromoo]</td>\n",
       "      <td>0.400000</td>\n",
       "    </tr>\n",
       "  </tbody>\n",
       "</table>\n",
       "</div>"
      ],
      "text/plain": [
       "                                                   0         1\n",
       "0       [Doublelift, Impact, Jensen, CoreJJ, Broxah]  0.706093\n",
       "8            [Licorice, Blaber, Nisqy, Zven, Vulcan]  0.560538\n",
       "2  [Broken Blade, Dardoch, Kobbe, Bjergsen, Biofr...  0.536170\n",
       "6          [Kumo, Svenskeren, Zeyzal, Bang, Jiizuke]  0.533708\n",
       "4  [V1per, Santorin, PowerOfEvil, WildTurtle, IgNar]  0.520000\n",
       "3                     [sOAZ, Xmithie, Altec, Hakuho]  0.516667\n",
       "7          [Ruin, Wiggily, Crown, Stixxay, Smoothie]  0.482906\n",
       "5         [Hauntzer, Closer, Goldenglue, FBI, Keith]  0.456140\n",
       "1          [Ssumday, Meteos, Cody Sun, Stunt, ry0ma]  0.445455\n",
       "9           [Huni, Grig, Froggen, Johnsun, aphromoo]  0.400000"
      ]
     },
     "execution_count": 21,
     "metadata": {},
     "output_type": "execute_result"
    }
   ],
   "source": [
    "# Predictions for Spring 2020 season standings based\n",
    "# on individual player performance.\n",
    "\n",
    "wr_pred = []\n",
    "features1 = good+bad\n",
    "features2 = ['k', 'd', 'a']\n",
    "features = features2\n",
    "\n",
    "for team in na:\n",
    "    predictions = model.fit(x[features], y).predict(new_na[new_na['player'].isin(team)][features])\n",
    "    wr = sum(predictions) / len(predictions)\n",
    "    wr_pred.append([team, wr])\n",
    "pd.DataFrame(wr_pred).sort_values(by=1, ascending=False)"
   ]
  },
  {
   "cell_type": "code",
   "execution_count": null,
   "metadata": {},
   "outputs": [],
   "source": []
  },
  {
   "cell_type": "code",
   "execution_count": null,
   "metadata": {},
   "outputs": [],
   "source": []
  }
 ],
 "metadata": {
  "kernelspec": {
   "display_name": "Python 3",
   "language": "python",
   "name": "python3"
  },
  "language_info": {
   "codemirror_mode": {
    "name": "ipython",
    "version": 3
   },
   "file_extension": ".py",
   "mimetype": "text/x-python",
   "name": "python",
   "nbconvert_exporter": "python",
   "pygments_lexer": "ipython3",
   "version": "3.8.6"
  }
 },
 "nbformat": 4,
 "nbformat_minor": 2
}
