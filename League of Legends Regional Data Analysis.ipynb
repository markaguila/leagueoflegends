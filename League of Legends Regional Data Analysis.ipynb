{
 "cells": [
  {
   "cell_type": "code",
   "execution_count": 1,
   "metadata": {
    "scrolled": true
   },
   "outputs": [
    {
     "name": "stdout",
     "output_type": "stream",
     "text": [
      "Requirement already satisfied: xlrd in /opt/conda/lib/python3.8/site-packages (1.2.0)\n",
      "Note: you may need to restart the kernel to use updated packages.\n"
     ]
    }
   ],
   "source": [
    "pip install xlrd"
   ]
  },
  {
   "cell_type": "code",
   "execution_count": 2,
   "metadata": {},
   "outputs": [],
   "source": [
    "import pandas as pd\n",
    "from pandas import ExcelWriter\n",
    "from pandas import ExcelFile\n",
    "import seaborn as sns\n",
    "import matplotlib.pyplot as plt\n",
    "import numpy as np\n"
   ]
  },
  {
   "cell_type": "code",
   "execution_count": 3,
   "metadata": {},
   "outputs": [
    {
     "name": "stdout",
     "output_type": "stream",
     "text": [
      "Done.\n"
     ]
    }
   ],
   "source": [
    "spring_19 = pd.read_excel('League of Legends/2019-spring-match-data-OraclesElixir-2019-05-21.xlsx')\n",
    "summer_19 = pd.read_excel('League of Legends/2019-summer-match-data-OraclesElixir-2019-09-16.xlsx')\n",
    "lcs_19 = spring_19.append(summer_19)\n",
    "worlds_19 = pd.read_excel('League of Legends/2019-summer-match-data-OraclesElixir-2019-11-10.xlsx')\n",
    "print('Done.')"
   ]
  },
  {
   "cell_type": "code",
   "execution_count": 4,
   "metadata": {},
   "outputs": [],
   "source": [
    "\n",
    "team_stats = lcs_19.groupby('team').mean()\n",
    "region_stats = lcs_19.groupby('league').mean()"
   ]
  },
  {
   "cell_type": "code",
   "execution_count": 5,
   "metadata": {},
   "outputs": [],
   "source": [
    "player_stats = lcs_19.groupby('player').mean()\n",
    "player_stats['kda'] = (player_stats['k'] + player_stats['a']) / player_stats['d']\n",
    "individual_performance = ['kda']"
   ]
  },
  {
   "cell_type": "code",
   "execution_count": 6,
   "metadata": {},
   "outputs": [],
   "source": [
    "#player_stats['kda']"
   ]
  },
  {
   "cell_type": "code",
   "execution_count": 7,
   "metadata": {
    "scrolled": false
   },
   "outputs": [
    {
     "name": "stderr",
     "output_type": "stream",
     "text": [
      "<ipython-input-7-190f03c0f97d>:5: SettingWithCopyWarning: \n",
      "A value is trying to be set on a copy of a slice from a DataFrame.\n",
      "Try using .loc[row_indexer,col_indexer] = value instead\n",
      "\n",
      "See the caveats in the documentation: https://pandas.pydata.org/pandas-docs/stable/user_guide/indexing.html#returning-a-view-versus-a-copy\n",
      "  gd['gold_efficiency'] = gd['dmgtochampsperminute'] / gd['earnedgpm']\n"
     ]
    }
   ],
   "source": [
    "# gold efficiency (dmg to champions / gold earned)\n",
    "\n",
    "gold_damage = ['player', 'team', 'league', 'position', 'dmgtochampsperminute', 'earnedgpm']\n",
    "gd = lcs_19[gold_damage]\n",
    "gd['gold_efficiency'] = gd['dmgtochampsperminute'] / gd['earnedgpm']"
   ]
  },
  {
   "cell_type": "code",
   "execution_count": 8,
   "metadata": {},
   "outputs": [
    {
     "data": {
      "text/html": [
       "<div>\n",
       "<style scoped>\n",
       "    .dataframe tbody tr th:only-of-type {\n",
       "        vertical-align: middle;\n",
       "    }\n",
       "\n",
       "    .dataframe tbody tr th {\n",
       "        vertical-align: top;\n",
       "    }\n",
       "\n",
       "    .dataframe thead th {\n",
       "        text-align: right;\n",
       "    }\n",
       "</style>\n",
       "<table border=\"1\" class=\"dataframe\">\n",
       "  <thead>\n",
       "    <tr style=\"text-align: right;\">\n",
       "      <th></th>\n",
       "      <th>dmgtochampsperminute</th>\n",
       "      <th>earnedgpm</th>\n",
       "      <th>gold_efficiency</th>\n",
       "    </tr>\n",
       "    <tr>\n",
       "      <th>player</th>\n",
       "      <th></th>\n",
       "      <th></th>\n",
       "      <th></th>\n",
       "    </tr>\n",
       "  </thead>\n",
       "  <tbody>\n",
       "    <tr>\n",
       "      <th>Scarlet</th>\n",
       "      <td>665.423901</td>\n",
       "      <td>250.548610</td>\n",
       "      <td>2.623405</td>\n",
       "    </tr>\n",
       "    <tr>\n",
       "      <th>Hauz</th>\n",
       "      <td>511.946669</td>\n",
       "      <td>188.213008</td>\n",
       "      <td>2.550073</td>\n",
       "    </tr>\n",
       "    <tr>\n",
       "      <th>RooKie</th>\n",
       "      <td>616.898523</td>\n",
       "      <td>274.219819</td>\n",
       "      <td>2.282623</td>\n",
       "    </tr>\n",
       "    <tr>\n",
       "      <th>Froggen</th>\n",
       "      <td>587.371586</td>\n",
       "      <td>259.565658</td>\n",
       "      <td>2.244320</td>\n",
       "    </tr>\n",
       "    <tr>\n",
       "      <th>MagiFelix</th>\n",
       "      <td>670.356247</td>\n",
       "      <td>300.170998</td>\n",
       "      <td>2.233248</td>\n",
       "    </tr>\n",
       "    <tr>\n",
       "      <th>Vahvel</th>\n",
       "      <td>174.145910</td>\n",
       "      <td>82.954780</td>\n",
       "      <td>2.214687</td>\n",
       "    </tr>\n",
       "    <tr>\n",
       "      <th>TitaN</th>\n",
       "      <td>636.240571</td>\n",
       "      <td>290.903787</td>\n",
       "      <td>2.202831</td>\n",
       "    </tr>\n",
       "    <tr>\n",
       "      <th>Moonblack</th>\n",
       "      <td>482.814283</td>\n",
       "      <td>223.811498</td>\n",
       "      <td>2.143042</td>\n",
       "    </tr>\n",
       "    <tr>\n",
       "      <th>tockers</th>\n",
       "      <td>546.705792</td>\n",
       "      <td>261.688631</td>\n",
       "      <td>2.108678</td>\n",
       "    </tr>\n",
       "    <tr>\n",
       "      <th>MoonBlack</th>\n",
       "      <td>293.977111</td>\n",
       "      <td>140.042967</td>\n",
       "      <td>2.095481</td>\n",
       "    </tr>\n",
       "  </tbody>\n",
       "</table>\n",
       "</div>"
      ],
      "text/plain": [
       "           dmgtochampsperminute   earnedgpm  gold_efficiency\n",
       "player                                                      \n",
       "Scarlet              665.423901  250.548610         2.623405\n",
       "Hauz                 511.946669  188.213008         2.550073\n",
       "RooKie               616.898523  274.219819         2.282623\n",
       "Froggen              587.371586  259.565658         2.244320\n",
       "MagiFelix            670.356247  300.170998         2.233248\n",
       "Vahvel               174.145910   82.954780         2.214687\n",
       "TitaN                636.240571  290.903787         2.202831\n",
       "Moonblack            482.814283  223.811498         2.143042\n",
       "tockers              546.705792  261.688631         2.108678\n",
       "MoonBlack            293.977111  140.042967         2.095481"
      ]
     },
     "execution_count": 8,
     "metadata": {},
     "output_type": "execute_result"
    }
   ],
   "source": [
    "# what players are most gold efficient (do the most dmg per gold earned)?\n",
    "\n",
    "player_gd = gd.groupby('player').mean()\n",
    "player_gd.dropna().sort_values(by='gold_efficiency', ascending=False).head(10)"
   ]
  },
  {
   "cell_type": "code",
   "execution_count": 9,
   "metadata": {},
   "outputs": [
    {
     "data": {
      "text/html": [
       "<div>\n",
       "<style scoped>\n",
       "    .dataframe tbody tr th:only-of-type {\n",
       "        vertical-align: middle;\n",
       "    }\n",
       "\n",
       "    .dataframe tbody tr th {\n",
       "        vertical-align: top;\n",
       "    }\n",
       "\n",
       "    .dataframe thead th {\n",
       "        text-align: right;\n",
       "    }\n",
       "</style>\n",
       "<table border=\"1\" class=\"dataframe\">\n",
       "  <thead>\n",
       "    <tr style=\"text-align: right;\">\n",
       "      <th></th>\n",
       "      <th>dmgtochampsperminute</th>\n",
       "      <th>earnedgpm</th>\n",
       "      <th>gold_efficiency</th>\n",
       "    </tr>\n",
       "    <tr>\n",
       "      <th>team</th>\n",
       "      <th></th>\n",
       "      <th></th>\n",
       "      <th></th>\n",
       "    </tr>\n",
       "  </thead>\n",
       "  <tbody>\n",
       "    <tr>\n",
       "      <th>Fenerbahce Esports</th>\n",
       "      <td>748.721773</td>\n",
       "      <td>414.645751</td>\n",
       "      <td>1.741725</td>\n",
       "    </tr>\n",
       "    <tr>\n",
       "      <th>Dragon Gate Team</th>\n",
       "      <td>605.133385</td>\n",
       "      <td>350.405415</td>\n",
       "      <td>1.707737</td>\n",
       "    </tr>\n",
       "    <tr>\n",
       "      <th>Bombers</th>\n",
       "      <td>659.049967</td>\n",
       "      <td>377.212432</td>\n",
       "      <td>1.706902</td>\n",
       "    </tr>\n",
       "    <tr>\n",
       "      <th>Invictus Gaming</th>\n",
       "      <td>734.778467</td>\n",
       "      <td>427.971642</td>\n",
       "      <td>1.697538</td>\n",
       "    </tr>\n",
       "    <tr>\n",
       "      <th>Cloud9</th>\n",
       "      <td>670.121824</td>\n",
       "      <td>394.485770</td>\n",
       "      <td>1.696554</td>\n",
       "    </tr>\n",
       "    <tr>\n",
       "      <th>CNB</th>\n",
       "      <td>590.841606</td>\n",
       "      <td>351.037682</td>\n",
       "      <td>1.668400</td>\n",
       "    </tr>\n",
       "    <tr>\n",
       "      <th>Redemption eSports</th>\n",
       "      <td>620.334118</td>\n",
       "      <td>370.979770</td>\n",
       "      <td>1.653629</td>\n",
       "    </tr>\n",
       "    <tr>\n",
       "      <th>KaBuM e-Sports</th>\n",
       "      <td>641.193414</td>\n",
       "      <td>377.022333</td>\n",
       "      <td>1.650769</td>\n",
       "    </tr>\n",
       "    <tr>\n",
       "      <th>Golden Guardians</th>\n",
       "      <td>626.177380</td>\n",
       "      <td>370.164525</td>\n",
       "      <td>1.642098</td>\n",
       "    </tr>\n",
       "    <tr>\n",
       "      <th>Isurus Gaming</th>\n",
       "      <td>621.882585</td>\n",
       "      <td>370.966231</td>\n",
       "      <td>1.623752</td>\n",
       "    </tr>\n",
       "  </tbody>\n",
       "</table>\n",
       "</div>"
      ],
      "text/plain": [
       "                    dmgtochampsperminute   earnedgpm  gold_efficiency\n",
       "team                                                                 \n",
       "Fenerbahce Esports            748.721773  414.645751         1.741725\n",
       "Dragon Gate Team              605.133385  350.405415         1.707737\n",
       "Bombers                       659.049967  377.212432         1.706902\n",
       "Invictus Gaming               734.778467  427.971642         1.697538\n",
       "Cloud9                        670.121824  394.485770         1.696554\n",
       "CNB                           590.841606  351.037682         1.668400\n",
       "Redemption eSports            620.334118  370.979770         1.653629\n",
       "KaBuM e-Sports                641.193414  377.022333         1.650769\n",
       "Golden Guardians              626.177380  370.164525         1.642098\n",
       "Isurus Gaming                 621.882585  370.966231         1.623752"
      ]
     },
     "execution_count": 9,
     "metadata": {},
     "output_type": "execute_result"
    }
   ],
   "source": [
    "# what teams are most gold efficient (do the most dmg per gold earned)?\n",
    "team_gd = gd.groupby('team').mean()\n",
    "team_gd.dropna().sort_values(by='gold_efficiency', ascending=False).head(10)"
   ]
  },
  {
   "cell_type": "code",
   "execution_count": 10,
   "metadata": {},
   "outputs": [
    {
     "data": {
      "text/html": [
       "<div>\n",
       "<style scoped>\n",
       "    .dataframe tbody tr th:only-of-type {\n",
       "        vertical-align: middle;\n",
       "    }\n",
       "\n",
       "    .dataframe tbody tr th {\n",
       "        vertical-align: top;\n",
       "    }\n",
       "\n",
       "    .dataframe thead th {\n",
       "        text-align: right;\n",
       "    }\n",
       "</style>\n",
       "<table border=\"1\" class=\"dataframe\">\n",
       "  <thead>\n",
       "    <tr style=\"text-align: right;\">\n",
       "      <th></th>\n",
       "      <th>dmgtochampsperminute</th>\n",
       "      <th>earnedgpm</th>\n",
       "      <th>gold_efficiency</th>\n",
       "    </tr>\n",
       "    <tr>\n",
       "      <th>league</th>\n",
       "      <th></th>\n",
       "      <th></th>\n",
       "      <th></th>\n",
       "    </tr>\n",
       "  </thead>\n",
       "  <tbody>\n",
       "    <tr>\n",
       "      <th>LCS</th>\n",
       "      <td>598.195485</td>\n",
       "      <td>372.789795</td>\n",
       "      <td>1.561518</td>\n",
       "    </tr>\n",
       "    <tr>\n",
       "      <th>CBLoL</th>\n",
       "      <td>596.764330</td>\n",
       "      <td>379.162106</td>\n",
       "      <td>1.549361</td>\n",
       "    </tr>\n",
       "    <tr>\n",
       "      <th>MSI</th>\n",
       "      <td>607.535815</td>\n",
       "      <td>388.070706</td>\n",
       "      <td>1.534823</td>\n",
       "    </tr>\n",
       "    <tr>\n",
       "      <th>LEC</th>\n",
       "      <td>598.005930</td>\n",
       "      <td>386.296141</td>\n",
       "      <td>1.523939</td>\n",
       "    </tr>\n",
       "    <tr>\n",
       "      <th>LMS</th>\n",
       "      <td>583.030814</td>\n",
       "      <td>376.167195</td>\n",
       "      <td>1.514267</td>\n",
       "    </tr>\n",
       "    <tr>\n",
       "      <th>LCK</th>\n",
       "      <td>551.859994</td>\n",
       "      <td>380.102838</td>\n",
       "      <td>1.416509</td>\n",
       "    </tr>\n",
       "  </tbody>\n",
       "</table>\n",
       "</div>"
      ],
      "text/plain": [
       "        dmgtochampsperminute   earnedgpm  gold_efficiency\n",
       "league                                                   \n",
       "LCS               598.195485  372.789795         1.561518\n",
       "CBLoL             596.764330  379.162106         1.549361\n",
       "MSI               607.535815  388.070706         1.534823\n",
       "LEC               598.005930  386.296141         1.523939\n",
       "LMS               583.030814  376.167195         1.514267\n",
       "LCK               551.859994  380.102838         1.416509"
      ]
     },
     "execution_count": 10,
     "metadata": {},
     "output_type": "execute_result"
    }
   ],
   "source": [
    "# what regions are most gold efficient (do the most dmg per gold earned)?\n",
    "\n",
    "league_gd = gd.groupby('league').mean()\n",
    "league_gd.dropna().sort_values(by='gold_efficiency', ascending=False).head(10)"
   ]
  },
  {
   "cell_type": "code",
   "execution_count": null,
   "metadata": {},
   "outputs": [],
   "source": []
  },
  {
   "cell_type": "code",
   "execution_count": 16,
   "metadata": {},
   "outputs": [
    {
     "data": {
      "image/png": "[encoded data removed]",
      "text/plain": [
       "<Figure size 432x288 with 1 Axes>"
      ]
     },
     "metadata": {
      "needs_background": "light"
     },
     "output_type": "display_data"
    },
    {
     "data": {
      "image/png": "[encoded data removed]",
      "text/plain": [
       "<Figure size 432x288 with 1 Axes>"
      ]
     },
     "metadata": {
      "needs_background": "light"
     },
     "output_type": "display_data"
    },
    {
     "data": {
      "image/png": "[encoded data removed]",
      "text/plain": [
       "<Figure size 432x288 with 1 Axes>"
      ]
     },
     "metadata": {
      "needs_background": "light"
     },
     "output_type": "display_data"
    },
    {
     "data": {
      "image/png": "[encoded data removed]",
      "text/plain": [
       "<Figure size 432x288 with 1 Axes>"
      ]
     },
     "metadata": {
      "needs_background": "light"
     },
     "output_type": "display_data"
    },
    {
     "data": {
      "image/png": "[encoded data removed]",
      "text/plain": [
       "<Figure size 432x288 with 1 Axes>"
      ]
     },
     "metadata": {
      "needs_background": "light"
     },
     "output_type": "display_data"
    }
   ],
   "source": [
    "#python pandas code for champ winrates across regions\n",
    "# A look at what regions perform above the average winrate \n",
    "# on what champions.\n",
    "\n",
    "top5a = spring_19['champion'].value_counts()[:6].index[1:]\n",
    "top5b = summer_19['champion'].value_counts()[:6].index[1:]\n",
    "leagues = spring_19['league'].unique()\n",
    "leagues = leagues[:-1]\n",
    "split = summer_19\n",
    "best = top5b\n",
    "champ_dict = {}\n",
    "for champ in best:\n",
    "    wr = {}\n",
    "    all = []\n",
    "    for lol in leagues:\n",
    "        league = split[split['league'] == lol]\n",
    "        champ_games = league[league['champion']==champ]\n",
    "        winrate = champ_games['result'].mean()\n",
    "        all.append(winrate)\n",
    "        avg = np.mean(np.array(all))\n",
    "    for lol in leagues:\n",
    "        league = split[split['league'] == lol]\n",
    "        champ_games = league[league['champion']==champ]\n",
    "        winrate = champ_games['result'].mean()\n",
    "        wr[lol] = (winrate - avg) * 100\n",
    "    champ_dict[champ] = wr\n",
    "for champ in best:\n",
    "    d = champ_dict[champ]\n",
    "    plt.figure()\n",
    "    plt.bar(d.keys(), d.values())\n",
    "    plt.title(champ)    \n"
   ]
  },
  {
   "cell_type": "code",
   "execution_count": 15,
   "metadata": {},
   "outputs": [],
   "source": [
    "#reg_pos = gd.groupby('player').mean()[['league', 'position']]\n",
    "#player_gd['dpg'] = player_gd['dmgtochampsperminute'] / player_gd['earnedgpm']\n",
    "#player_gd = player_gd.join(reg_pos).drop('Team')\n",
    "#dmean = player_gd['dmgtochampsperminute'].mean() \n",
    "#gmean = player_gd['earnedgpm'].mean()\n",
    "#gmin = player_gd['earnedgpm'].min()\n",
    "#gmax = player_gd['earnedgpm'].max()\n",
    "\n",
    "#slope = dmean / gmean\n",
    "#d= player_gd\n",
    "#useful filter player_gd[player_gd['position'].isin(['ADC'])][player_gd['league'].isin(['LCK', 'LPL', 'LCS', 'LEC'])\n",
    "#g=sns.pairplot(data=player_gd, hue='position', y_vars='dmgtochampsperminute', x_vars='earnedgpm');\n",
    "#low, high = int(d['earnedgpm'].min()), int(d['earnedgpm'].max())\n",
    "#sns.lineplot(x=[i for i in range(low, high)], y=[i*slope for i in range(low, high)])\n",
    "#g.fig.set_size_inches(8,4);\n",
    "\n",
    "#lck = player_gd[player_gd['league']=='LCK']\n",
    "#lcs = player_gd[player_gd['league']=='LCS']\n",
    "#lec = player_gd[player_gd['league']=='LEC']\n",
    "#lpl = player_gd[player_gd['league']=='LPL']\n",
    "#gold_damage = ['player', 'league', 'position', 'dmgtochampsperminute', 'earnedgpm']\n",
    "#gd = worlds_19[gold_damage]\n",
    "#reg_pos = gd.groupby('player').max()[['league', 'position']]\n",
    "#player_gd = gd.groupby('player').mean()\n",
    "#player_gd['dpg'] = player_gd['dmgtochampsperminute'] / player_gd['earnedgpm']\n",
    "#player_gd = player_gd.join(reg_pos).drop('Team')"
   ]
  },
  {
   "cell_type": "code",
   "execution_count": null,
   "metadata": {},
   "outputs": [],
   "source": []
  }
 ],
 "metadata": {
  "kernelspec": {
   "display_name": "Python 3",
   "language": "python",
   "name": "python3"
  },
  "language_info": {
   "codemirror_mode": {
    "name": "ipython",
    "version": 3
   },
   "file_extension": ".py",
   "mimetype": "text/x-python",
   "name": "python",
   "nbconvert_exporter": "python",
   "pygments_lexer": "ipython3",
   "version": "3.8.6"
  }
 },
 "nbformat": 4,
 "nbformat_minor": 4
}
